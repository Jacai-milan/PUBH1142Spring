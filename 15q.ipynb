{
 "cells": [
  {
   "cell_type": "markdown",
   "metadata": {},
   "source": [
    "# QUESTIONS"
   ]
  },
  {
   "cell_type": "markdown",
   "metadata": {},
   "source": [
    "1. What is the primary goal of data anonymization?\n",
    "*  to make it impossible or at least extremely difficult to identify the individuals to whom the data belongs"
   ]
  },
  {
   "cell_type": "markdown",
   "metadata": {},
   "source": [
    "2. What is the Havasupai Tribe case about?\n",
    "* a case that has since become a touchstone in discussions about informed consent, genetic research, and the rights of indigenous peoples.The case highlighted several ethical issues in health data collection and research"
   ]
  },
  {
   "cell_type": "markdown",
   "metadata": {},
   "source": [
    "3. What was the largest health data breach in history?\n",
    "\n",
    "* The breach in 2015 at Anthem Inc."
   ]
  },
  {
   "cell_type": "markdown",
   "metadata": {},
   "source": [
    "4. What is the pulse oximeter controversy about?\n",
    "\n",
    "* It's about the potential race didsparities in it's reading because it was intitially made for paler skin."
   ]
  },
  {
   "cell_type": "markdown",
   "metadata": {},
   "source": [
    "5. What is the role of an Institutional Review Board (IRB) in research?\n",
    "\n",
    "* Their role is to review research and make sure it complies with ethical standards. \n"
   ]
  },
  {
   "cell_type": "markdown",
   "metadata": {},
   "source": [
    "6. What is the difference between spreadsheet software and database software for health data management?\n",
    "\n",
    "* A spreasheet uses rows and colomns for data. For example excel. Databases are orginized collection of data."
   ]
  },
  {
   "cell_type": "markdown",
   "metadata": {},
   "source": [
    "7. What is a conflict of interest in public health research?\n",
    "\n",
    "* It refers to a situation where a person or organization involved in the research has a secondary interest that could unduly influence or bias the conduct, findings, or reporting of the research"
   ]
  },
  {
   "cell_type": "markdown",
   "metadata": {},
   "source": [
    "8. What is informed consent in the context of health data collection?\n",
    "\n",
    "* Is not merely a legal requirement but an ethical imperative that respects individual autonomy and privacy."
   ]
  },
  {
   "cell_type": "markdown",
   "metadata": {},
   "source": [
    "9. What is data masking in the context of de-identification of health data?\n",
    "\n",
    "* Data masking also known as redaction is the process of replacing identifiable information with random characters or removing it entirely. "
   ]
  },
  {
   "cell_type": "markdown",
   "metadata": {},
   "source": [
    "10. What is the principle of k-anonymity in the context of de-identification of health data?\n",
    "\n",
    "* It is a technique involves grouping the data in such a way that each group contains at least \n",
    "k records, thereby making it difficult to single out individuals. "
   ]
  },
  {
   "cell_type": "markdown",
   "metadata": {},
   "source": [
    "11. What is the main concern about conflicts of interest in public health research?\n",
    "\n",
    "* The main concern is that they can threaten the integrity of public health research, as they can lead to biased results, loss of objectivity, and a breach of trust with research participants and the public."
   ]
  },
  {
   "cell_type": "markdown",
   "metadata": {},
   "source": [
    "12. What is the first step in managing conflicts of interest in public health research?\n",
    "\n",
    "* The first step is transparency. Researchers should disclose any potential conflicts of interest at the outset of a study, including financial ties, personal relationships, or institutional affiliations that could influence their work."
   ]
  },
  {
   "cell_type": "markdown",
   "metadata": {},
   "source": [
    "13. What is the role of independent oversight in managing conflicts of interest in public health research?\n",
    "\n",
    "* It can provide an additional layer of scrutiny and help ensure that conflicts of interest do not compromise the research."
   ]
  },
  {
   "cell_type": "markdown",
   "metadata": {},
   "source": [
    "14. What is one strategy for mitigating conflicts of interest in public health research?\n",
    "\n",
    "* Avoidance is one in which you simply just avoid involving yourself in such research."
   ]
  },
  {
   "cell_type": "markdown",
   "metadata": {},
   "source": [
    "15. What is the potential impact of not properly managing conflicts of interest in public health research?\n",
    "\n",
    "* It would disprove the integrity and of their research and the trust of the public."
   ]
  },
  {
   "cell_type": "code",
   "execution_count": null,
   "metadata": {},
   "outputs": [],
   "source": []
  },
  {
   "cell_type": "markdown",
   "metadata": {},
   "source": []
  }
 ],
 "metadata": {
  "kernelspec": {
   "display_name": ".venv",
   "language": "python",
   "name": "python3"
  },
  "language_info": {
   "name": "python",
   "version": "3.12.7"
  }
 },
 "nbformat": 4,
 "nbformat_minor": 2
}
